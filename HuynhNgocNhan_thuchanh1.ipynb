{
  "nbformat": 4,
  "nbformat_minor": 0,
  "metadata": {
    "colab": {
      "name": "HuynhNgocNhan_thuchanh1.ipynb",
      "provenance": [],
      "authorship_tag": "ABX9TyPNmRVFOXomE+G2jO2Ycp9r",
      "include_colab_link": true
    },
    "kernelspec": {
      "name": "python3",
      "display_name": "Python 3"
    }
  },
  "cells": [
    {
      "cell_type": "markdown",
      "metadata": {
        "id": "view-in-github",
        "colab_type": "text"
      },
      "source": [
        "<a href=\"https://colab.research.google.com/github/youarecrazy9999/parternrecognition/blob/master/HuynhNgocNhan_thuchanh1.ipynb\" target=\"_parent\"><img src=\"https://colab.research.google.com/assets/colab-badge.svg\" alt=\"Open In Colab\"/></a>"
      ]
    },
    {
      "cell_type": "markdown",
      "metadata": {
        "id": "RDQrKk-CifzO"
      },
      "source": [
        "## **<center>TÌM BIÊN PHÂN LỚP</center>**"
      ]
    },
    {
      "cell_type": "code",
      "metadata": {
        "id": "DKRDJ09NKtx1"
      },
      "source": [
        "import numpy as np\n",
        "import tensorflow as tf\n",
        "import matplotlib.pyplot as plt"
      ],
      "execution_count": 1,
      "outputs": []
    },
    {
      "cell_type": "markdown",
      "metadata": {
        "id": "Er_dYb3t0VvD"
      },
      "source": [
        "**Bài 1a**"
      ]
    },
    {
      "cell_type": "code",
      "metadata": {
        "id": "wJjPTKz_MTUT"
      },
      "source": [
        "a = [1, 2, 3, 3, 4, 4, 6, 6, 8]\n",
        "b = [4, 6, 7, 7, 8, 9, 9, 10, 12]"
      ],
      "execution_count": 2,
      "outputs": []
    },
    {
      "cell_type": "code",
      "metadata": {
        "id": "FtQGK5_uMTgh",
        "outputId": "48dfcc80-029a-4c04-addb-7fa4be44fbf1",
        "colab": {
          "base_uri": "https://localhost:8080/",
          "height": 102
        }
      },
      "source": [
        "x = int(input('Nhập biên x:')) # điểm ngưỡng\n",
        "loiA = 0\n",
        "loiB = 0\n",
        "A,B = [],[]\n",
        "for i in a:\n",
        "  if i>x:\n",
        "    loiA+=1\n",
        "    A.append(i)\n",
        "for j in b:\n",
        "  if j<x:\n",
        "    loiB+=1\n",
        "    B.append(j)\n",
        "tongloi=loiA + loiB\n",
        "print('Lỗi A:',loiA)\n",
        "print('mảng lỗi A:', A)\n",
        "print('Lỗi B:', loiB)\n",
        "print('mảng lỗi B:', B)"
      ],
      "execution_count": 12,
      "outputs": [
        {
          "output_type": "stream",
          "text": [
            "Nhập biên x:6\n",
            "Lỗi A: 1\n",
            "mảng lỗi A: [8]\n",
            "Lỗi B: 1\n",
            "mảng lỗi B: [4]\n"
          ],
          "name": "stdout"
        }
      ]
    },
    {
      "cell_type": "code",
      "metadata": {
        "id": "RfTI809RMTeC",
        "outputId": "1102db49-c44a-40ea-d1f9-e131856a8a41",
        "colab": {
          "base_uri": "https://localhost:8080/",
          "height": 265
        }
      },
      "source": [
        "plt.scatter(a,np.zeros(len(a)),edgecolors=None)\n",
        "plt.scatter(b,np.zeros(len(b)))\n",
        "plt.scatter(x,0)\n",
        "plt.show()"
      ],
      "execution_count": 14,
      "outputs": [
        {
          "output_type": "display_data",
          "data": {
            "image/png": "[encoded data removed]",
            "text/plain": [
              "<Figure size 432x288 with 1 Axes>"
            ]
          },
          "metadata": {
            "tags": [],
            "needs_background": "light"
          }
        }
      ]
    },
    {
      "cell_type": "markdown",
      "metadata": {
        "id": "4EdreMwz0HZr"
      },
      "source": [
        "**Bài 1b**"
      ]
    },
    {
      "cell_type": "code",
      "metadata": {
        "id": "2az8i_u1Kzd7"
      },
      "source": [
        "x1 = [0,2,3,4,6,7,8,10,12]\n",
        "x2 = [1,5,2,6,9,13,13,15,17]\n",
        "A1,B1 = [],[]"
      ],
      "execution_count": 6,
      "outputs": []
    },
    {
      "cell_type": "code",
      "metadata": {
        "id": "iAsA3MhowYET",
        "outputId": "4e352a36-78f3-4303-9c3a-6a46b190681f",
        "colab": {
          "base_uri": "https://localhost:8080/",
          "height": 51
        }
      },
      "source": [
        "# merge 2 array x1 and x2\n",
        "x = np.sort(np.append(x1,x2))\n",
        "x"
      ],
      "execution_count": 7,
      "outputs": [
        {
          "output_type": "execute_result",
          "data": {
            "text/plain": [
              "array([ 0,  1,  2,  2,  3,  4,  5,  6,  6,  7,  8,  9, 10, 12, 13, 13, 15,\n",
              "       17])"
            ]
          },
          "metadata": {
            "tags": []
          },
          "execution_count": 7
        }
      ]
    },
    {
      "cell_type": "code",
      "metadata": {
        "id": "5t7RFUOdLJPa"
      },
      "source": [
        "n = np.round_((min(x)+max(x))/2) # lấy vị trí median làm ngưỡng\n",
        "Y = 2*n + 1 # đường thẳng biên tạo bởi ngưỡng\n",
        "for i in x: # ràng buộc 2 lớp 2 bên biên\n",
        "  y = 2*i+1\n",
        "  if y > Y:\n",
        "    A1.append(i)\n",
        "  elif y < Y:\n",
        "    B1.append(i)\n"
      ],
      "execution_count": 8,
      "outputs": []
    },
    {
      "cell_type": "code",
      "metadata": {
        "id": "Nyo9lUrAS6Vo",
        "outputId": "47b6dd9c-f2e6-43ea-e1fa-d0ff30c1f663",
        "colab": {
          "base_uri": "https://localhost:8080/",
          "height": 282
        }
      },
      "source": [
        "plt.plot(A1,'+')\n",
        "plt.plot(B1,'*')\n",
        "plt.plot(x,[2*i+1 for i in x])"
      ],
      "execution_count": 9,
      "outputs": [
        {
          "output_type": "execute_result",
          "data": {
            "text/plain": [
              "[<matplotlib.lines.Line2D at 0x7f1838c07f28>]"
            ]
          },
          "metadata": {
            "tags": []
          },
          "execution_count": 9
        },
        {
          "output_type": "display_data",
          "data": {
            "image/png": "[encoded data removed]",
            "text/plain": [
              "<Figure size 432x288 with 1 Axes>"
            ]
          },
          "metadata": {
            "tags": [],
            "needs_background": "light"
          }
        }
      ]
    },
    {
      "cell_type": "markdown",
      "metadata": {
        "id": "Fea0HL1H056-"
      },
      "source": [
        "**Bài 1c**"
      ]
    },
    {
      "cell_type": "code",
      "metadata": {
        "id": "DLEx6-kWxBbt"
      },
      "source": [
        "in_time = [(0, 27), (1, 25), (2, 16), (3, 19), (4, 26), (5, 20), (6, 19), (7, 17), (8, 10), (9, 5), (10, 4), (11, 4), (12,2)] \n",
        "cls_late = [(5,3), (6, 5), (7, 8), (8, 15), (9, 17), (10, 18), (11, 19), (12,16), (13, 9), (14, 8), (15, 8)]"
      ],
      "execution_count": 15,
      "outputs": []
    },
    {
      "cell_type": "code",
      "metadata": {
        "id": "Q05OT_m51WHO",
        "outputId": "68f3554c-9fde-42ce-c942-5bdf4ff7f3f2",
        "colab": {
          "base_uri": "https://localhost:8080/",
          "height": 265
        }
      },
      "source": [
        "x1,y1 = zip(*in_time)\n",
        "x2,y2 = zip(*cls_late)\n",
        "plt.bar(x1,y1, width=0.8, color='blue',alpha=0.75,label='Đúng giờ')\n",
        "plt.bar(x2,y2, width=0.5, color='red',alpha=0.75,label='Trễ giờ')\n",
        "plt.legend(loc='upper right')\n",
        "plt.show()"
      ],
      "execution_count": 22,
      "outputs": [
        {
          "output_type": "display_data",
          "data": {
            "image/png": "[encoded data removed]",
            "text/plain": [
              "<Figure size 432x288 with 1 Axes>"
            ]
          },
          "metadata": {
            "tags": [],
            "needs_background": "light"
          }
        }
      ]
    },
    {
      "cell_type": "code",
      "metadata": {
        "id": "5zfjYipn1cBw"
      },
      "source": [
        "intime_dic = dict(in_time)\n",
        "late_dic = dict(cls_late)"
      ],
      "execution_count": 23,
      "outputs": []
    },
    {
      "cell_type": "code",
      "metadata": {
        "id": "fcDzKPWn2h7h"
      },
      "source": [
        "def catch_the_train(min):\n",
        "  s = intime_dic.get(min,0)\n",
        "  if s==0:\n",
        "    return 0\n",
        "  else:\n",
        "    m = late_dic.get(min,0)\n",
        "    return s/(s+m)"
      ],
      "execution_count": 25,
      "outputs": []
    },
    {
      "cell_type": "code",
      "metadata": {
        "id": "CpDP4KcX21OM",
        "outputId": "ddc16b8b-901c-48ef-97f6-e9068a710ce6",
        "colab": {
          "base_uri": "https://localhost:8080/",
          "height": 272
        }
      },
      "source": [
        "for m in range(0,15):\n",
        "  print(m,catch_the_train(m))"
      ],
      "execution_count": 26,
      "outputs": [
        {
          "output_type": "stream",
          "text": [
            "0 1.0\n",
            "1 1.0\n",
            "2 1.0\n",
            "3 1.0\n",
            "4 1.0\n",
            "5 0.8695652173913043\n",
            "6 0.7916666666666666\n",
            "7 0.68\n",
            "8 0.4\n",
            "9 0.22727272727272727\n",
            "10 0.18181818181818182\n",
            "11 0.17391304347826086\n",
            "12 0.1111111111111111\n",
            "13 0\n",
            "14 0\n"
          ],
          "name": "stdout"
        }
      ]
    }
  ]
}